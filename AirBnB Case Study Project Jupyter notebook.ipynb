{
 "cells": [
  {
   "cell_type": "markdown",
   "metadata": {},
   "source": [
    "# AirBnB NY Locations Data Case Study\n",
    "\n",
    "In this final project, your task will be to take the data provided and find evidance to answer the following questions.\n",
    "\n",
    "1. Which hosts are the busiest and why?\n",
    "2. How many neighborhood groups are available and which shows up the most?\n",
    "3. Are private rooms the most popular in manhattan?\n",
    "4. Which hosts are the busiest and based on their reviews?\n",
    "5. Which neighorhood group has the highest average price?\n",
    "6. Which neighborhood group has the highest total price?\n",
    "7. Which top 5 hosts have the highest total price?\n",
    "8. Who currently has no (zero) availability with a review count of 100 or more?\n",
    "9. What host has the highest total of prices and where are they located?\n",
    "10. When did Danielle from Queens last receive a review?\n",
    "\n",
    "You will be given **4 hours** to complete this assignment. \n",
    "**Be Advised** I will go dark for this intire assignment time period. That said, any questions that you would like to ask about the data, or the project **MUST** be asked before the time starts. Once the time has started, I can no longer give information.\n",
    "\n",
    "This is to similate what you will face when you are out in the wild. \n",
    "\n",
    "Happy Coding!"
   ]
  },
  {
   "cell_type": "code",
   "execution_count": 12,
   "metadata": {},
   "outputs": [],
   "source": [
    "import numpy as np\n",
    "import pandas as pd\n",
    "import matplotlib.pyplot as plt\n",
    "from pandas import DataFrame"
   ]
  },
  {
   "cell_type": "code",
   "execution_count": 2,
   "metadata": {},
   "outputs": [
    {
     "data": {
      "text/html": [
       "<div>\n",
       "<style scoped>\n",
       "    .dataframe tbody tr th:only-of-type {\n",
       "        vertical-align: middle;\n",
       "    }\n",
       "\n",
       "    .dataframe tbody tr th {\n",
       "        vertical-align: top;\n",
       "    }\n",
       "\n",
       "    .dataframe thead th {\n",
       "        text-align: right;\n",
       "    }\n",
       "</style>\n",
       "<table border=\"1\" class=\"dataframe\">\n",
       "  <thead>\n",
       "    <tr style=\"text-align: right;\">\n",
       "      <th></th>\n",
       "      <th>id</th>\n",
       "      <th>name</th>\n",
       "      <th>host_id</th>\n",
       "      <th>host_name</th>\n",
       "      <th>neighbourhood_group</th>\n",
       "      <th>neighbourhood</th>\n",
       "      <th>latitude</th>\n",
       "      <th>longitude</th>\n",
       "      <th>room_type</th>\n",
       "      <th>price</th>\n",
       "      <th>minimum_nights</th>\n",
       "      <th>number_of_reviews</th>\n",
       "      <th>last_review</th>\n",
       "      <th>reviews_per_month</th>\n",
       "      <th>calculated_host_listings_count</th>\n",
       "      <th>availability_365</th>\n",
       "    </tr>\n",
       "  </thead>\n",
       "  <tbody>\n",
       "    <tr>\n",
       "      <th>0</th>\n",
       "      <td>2539</td>\n",
       "      <td>Clean &amp; quiet apt home by the park</td>\n",
       "      <td>2787</td>\n",
       "      <td>John</td>\n",
       "      <td>Brooklyn</td>\n",
       "      <td>Kensington</td>\n",
       "      <td>40.64749</td>\n",
       "      <td>-73.97237</td>\n",
       "      <td>Private room</td>\n",
       "      <td>149</td>\n",
       "      <td>1</td>\n",
       "      <td>9</td>\n",
       "      <td>2018-10-19</td>\n",
       "      <td>0.21</td>\n",
       "      <td>6</td>\n",
       "      <td>365</td>\n",
       "    </tr>\n",
       "    <tr>\n",
       "      <th>1</th>\n",
       "      <td>2595</td>\n",
       "      <td>Skylit Midtown Castle</td>\n",
       "      <td>2845</td>\n",
       "      <td>Jennifer</td>\n",
       "      <td>Manhattan</td>\n",
       "      <td>Midtown</td>\n",
       "      <td>40.75362</td>\n",
       "      <td>-73.98377</td>\n",
       "      <td>Entire home/apt</td>\n",
       "      <td>225</td>\n",
       "      <td>1</td>\n",
       "      <td>45</td>\n",
       "      <td>2019-05-21</td>\n",
       "      <td>0.38</td>\n",
       "      <td>2</td>\n",
       "      <td>355</td>\n",
       "    </tr>\n",
       "    <tr>\n",
       "      <th>2</th>\n",
       "      <td>3647</td>\n",
       "      <td>THE VILLAGE OF HARLEM....NEW YORK !</td>\n",
       "      <td>4632</td>\n",
       "      <td>Elisabeth</td>\n",
       "      <td>Manhattan</td>\n",
       "      <td>Harlem</td>\n",
       "      <td>40.80902</td>\n",
       "      <td>-73.94190</td>\n",
       "      <td>Private room</td>\n",
       "      <td>150</td>\n",
       "      <td>3</td>\n",
       "      <td>0</td>\n",
       "      <td>NaN</td>\n",
       "      <td>NaN</td>\n",
       "      <td>1</td>\n",
       "      <td>365</td>\n",
       "    </tr>\n",
       "    <tr>\n",
       "      <th>3</th>\n",
       "      <td>3831</td>\n",
       "      <td>Cozy Entire Floor of Brownstone</td>\n",
       "      <td>4869</td>\n",
       "      <td>LisaRoxanne</td>\n",
       "      <td>Brooklyn</td>\n",
       "      <td>Clinton Hill</td>\n",
       "      <td>40.68514</td>\n",
       "      <td>-73.95976</td>\n",
       "      <td>Entire home/apt</td>\n",
       "      <td>89</td>\n",
       "      <td>1</td>\n",
       "      <td>270</td>\n",
       "      <td>2019-07-05</td>\n",
       "      <td>4.64</td>\n",
       "      <td>1</td>\n",
       "      <td>194</td>\n",
       "    </tr>\n",
       "    <tr>\n",
       "      <th>4</th>\n",
       "      <td>5022</td>\n",
       "      <td>Entire Apt: Spacious Studio/Loft by central park</td>\n",
       "      <td>7192</td>\n",
       "      <td>Laura</td>\n",
       "      <td>Manhattan</td>\n",
       "      <td>East Harlem</td>\n",
       "      <td>40.79851</td>\n",
       "      <td>-73.94399</td>\n",
       "      <td>Entire home/apt</td>\n",
       "      <td>80</td>\n",
       "      <td>10</td>\n",
       "      <td>9</td>\n",
       "      <td>2018-11-19</td>\n",
       "      <td>0.10</td>\n",
       "      <td>1</td>\n",
       "      <td>0</td>\n",
       "    </tr>\n",
       "  </tbody>\n",
       "</table>\n",
       "</div>"
      ],
      "text/plain": [
       "     id                                              name  host_id  \\\n",
       "0  2539                Clean & quiet apt home by the park     2787   \n",
       "1  2595                             Skylit Midtown Castle     2845   \n",
       "2  3647               THE VILLAGE OF HARLEM....NEW YORK !     4632   \n",
       "3  3831                   Cozy Entire Floor of Brownstone     4869   \n",
       "4  5022  Entire Apt: Spacious Studio/Loft by central park     7192   \n",
       "\n",
       "     host_name neighbourhood_group neighbourhood  latitude  longitude  \\\n",
       "0         John            Brooklyn    Kensington  40.64749  -73.97237   \n",
       "1     Jennifer           Manhattan       Midtown  40.75362  -73.98377   \n",
       "2    Elisabeth           Manhattan        Harlem  40.80902  -73.94190   \n",
       "3  LisaRoxanne            Brooklyn  Clinton Hill  40.68514  -73.95976   \n",
       "4        Laura           Manhattan   East Harlem  40.79851  -73.94399   \n",
       "\n",
       "         room_type  price  minimum_nights  number_of_reviews last_review  \\\n",
       "0     Private room    149               1                  9  2018-10-19   \n",
       "1  Entire home/apt    225               1                 45  2019-05-21   \n",
       "2     Private room    150               3                  0         NaN   \n",
       "3  Entire home/apt     89               1                270  2019-07-05   \n",
       "4  Entire home/apt     80              10                  9  2018-11-19   \n",
       "\n",
       "   reviews_per_month  calculated_host_listings_count  availability_365  \n",
       "0               0.21                               6               365  \n",
       "1               0.38                               2               355  \n",
       "2                NaN                               1               365  \n",
       "3               4.64                               1               194  \n",
       "4               0.10                               1                 0  "
      ]
     },
     "execution_count": 2,
     "metadata": {},
     "output_type": "execute_result"
    }
   ],
   "source": [
    "air_bnb = pd.read_csv('./files/AB_NYC_2019.csv')\n",
    "air_bnb.head()"
   ]
  },
  {
   "cell_type": "code",
   "execution_count": 9,
   "metadata": {},
   "outputs": [
    {
     "data": {
      "text/plain": [
       "Index(['id', 'name', 'host_id', 'host_name', 'neighbourhood_group',\n",
       "       'neighbourhood', 'latitude', 'longitude', 'room_type', 'price',\n",
       "       'minimum_nights', 'number_of_reviews', 'last_review',\n",
       "       'reviews_per_month', 'calculated_host_listings_count',\n",
       "       'availability_365'],\n",
       "      dtype='object')"
      ]
     },
     "execution_count": 9,
     "metadata": {},
     "output_type": "execute_result"
    }
   ],
   "source": [
    "# How many neighborhood groups are available and which shows up the most?\n",
    "air_bnb.head()\n",
    "air_bnb.columns\n",
    "# I want to do a join, to find the most common city\n",
    "#  find all groups of neighborhoods\n",
    "\n",
    "there are 2 neighbourhood groups.\n",
    "Manhattan shows up the most."
   ]
  },
  {
   "cell_type": "code",
   "execution_count": 23,
   "metadata": {},
   "outputs": [
    {
     "data": {
      "text/plain": [
       "0           Private room\n",
       "1        Entire home/apt\n",
       "2           Private room\n",
       "3        Entire home/apt\n",
       "4        Entire home/apt\n",
       "              ...       \n",
       "48890       Private room\n",
       "48891       Private room\n",
       "48892    Entire home/apt\n",
       "48893        Shared room\n",
       "48894       Private room\n",
       "Name: room_type, Length: 48895, dtype: object"
      ]
     },
     "execution_count": 23,
     "metadata": {},
     "output_type": "execute_result"
    }
   ],
   "source": [
    "air_bnb.head()\n",
    "air_bnb.columns\n",
    "air_bnb_subset = DataFrame(air_bnb, columns=['id', 'name', 'host_id', 'host_name', 'neighbourhood_group',\n",
    "       'neighbourhood', 'latitude', 'longitude', 'room_type', 'price',\n",
    "       'minimum_nights', 'number_of_reviews', 'last_review',\n",
    "       'reviews_per_month', 'calculated_host_listings_count',\n",
    "       'availability_365'])\n",
    "air_bnb_subset.head(3)\n",
    "\n",
    "air_bnb_subset['neighbourhood_group']\n",
    "air_bnb_subset['room_type']"
   ]
  },
  {
   "cell_type": "code",
   "execution_count": 24,
   "metadata": {},
   "outputs": [
    {
     "data": {
      "text/plain": [
       "0         Brooklyn\n",
       "1        Manhattan\n",
       "2        Manhattan\n",
       "3         Brooklyn\n",
       "4        Manhattan\n",
       "           ...    \n",
       "48890     Brooklyn\n",
       "48891     Brooklyn\n",
       "48892    Manhattan\n",
       "48893    Manhattan\n",
       "48894    Manhattan\n",
       "Name: neighbourhood_group, Length: 48895, dtype: object"
      ]
     },
     "execution_count": 24,
     "metadata": {},
     "output_type": "execute_result"
    }
   ],
   "source": [
    "air_bnb_subset['neighbourhood_group']\n"
   ]
  },
  {
   "cell_type": "code",
   "execution_count": 25,
   "metadata": {},
   "outputs": [
    {
     "data": {
      "text/plain": [
       "0           Private room\n",
       "1        Entire home/apt\n",
       "2           Private room\n",
       "3        Entire home/apt\n",
       "4        Entire home/apt\n",
       "              ...       \n",
       "48890       Private room\n",
       "48891       Private room\n",
       "48892    Entire home/apt\n",
       "48893        Shared room\n",
       "48894       Private room\n",
       "Name: room_type, Length: 48895, dtype: object"
      ]
     },
     "execution_count": 25,
     "metadata": {},
     "output_type": "execute_result"
    }
   ],
   "source": [
    "air_bnb_subset['room_type']"
   ]
  },
  {
   "cell_type": "code",
   "execution_count": 26,
   "metadata": {},
   "outputs": [
    {
     "data": {
      "text/plain": [
       "0           Private room\n",
       "1        Entire home/apt\n",
       "2           Private room\n",
       "3        Entire home/apt\n",
       "4        Entire home/apt\n",
       "              ...       \n",
       "48890       Private room\n",
       "48891       Private room\n",
       "48892    Entire home/apt\n",
       "48893        Shared room\n",
       "48894       Private room\n",
       "Name: room_type, Length: 48895, dtype: object"
      ]
     },
     "execution_count": 26,
     "metadata": {},
     "output_type": "execute_result"
    }
   ],
   "source": [
    "# Are private rooms the most popular in manhattan?\n",
    "\n",
    "air_bnb_subset['room_type']\n",
    "\n",
    "no, entire home/apt is the most popular."
   ]
  },
  {
   "cell_type": "code",
   "execution_count": 27,
   "metadata": {},
   "outputs": [
    {
     "data": {
      "text/plain": [
       "0          9\n",
       "1         45\n",
       "2          0\n",
       "3        270\n",
       "4          9\n",
       "        ... \n",
       "48890      0\n",
       "48891      0\n",
       "48892      0\n",
       "48893      0\n",
       "48894      0\n",
       "Name: number_of_reviews, Length: 48895, dtype: int64"
      ]
     },
     "execution_count": 27,
     "metadata": {},
     "output_type": "execute_result"
    }
   ],
   "source": [
    "# Which hosts are the busiest and based on their reviews?\n",
    "\n",
    "air_bnb_subset['number_of_reviews']\n",
    "brooklyn is busiest."
   ]
  },
  {
   "cell_type": "code",
   "execution_count": 28,
   "metadata": {},
   "outputs": [
    {
     "data": {
      "text/plain": [
       "0        149\n",
       "1        225\n",
       "2        150\n",
       "3         89\n",
       "4         80\n",
       "        ... \n",
       "48890     70\n",
       "48891     40\n",
       "48892    115\n",
       "48893     55\n",
       "48894     90\n",
       "Name: price, Length: 48895, dtype: int64"
      ]
     },
     "execution_count": 28,
     "metadata": {},
     "output_type": "execute_result"
    }
   ],
   "source": [
    "#Which neighorhood group has the highest average price?\n",
    "air_bnb_subset['price']\n",
    "manhattan has heighest average price"
   ]
  },
  {
   "cell_type": "code",
   "execution_count": 29,
   "metadata": {},
   "outputs": [
    {
     "data": {
      "text/plain": [
       "0        149\n",
       "1        225\n",
       "2        150\n",
       "3         89\n",
       "4         80\n",
       "        ... \n",
       "48890     70\n",
       "48891     40\n",
       "48892    115\n",
       "48893     55\n",
       "48894     90\n",
       "Name: price, Length: 48895, dtype: int64"
      ]
     },
     "execution_count": 29,
     "metadata": {},
     "output_type": "execute_result"
    }
   ],
   "source": [
    "# Which neighbor hood group has the highest total price?\n",
    "air_bnb_subset['price']\n",
    "manhattan has highest total price"
   ]
  },
  {
   "cell_type": "code",
   "execution_count": 30,
   "metadata": {},
   "outputs": [
    {
     "data": {
      "text/plain": [
       "0        149\n",
       "1        225\n",
       "2        150\n",
       "3         89\n",
       "4         80\n",
       "        ... \n",
       "48890     70\n",
       "48891     40\n",
       "48892    115\n",
       "48893     55\n",
       "48894     90\n",
       "Name: price, Length: 48895, dtype: int64"
      ]
     },
     "execution_count": 30,
     "metadata": {},
     "output_type": "execute_result"
    }
   ],
   "source": [
    "#Which top 5 hosts have the highest total price?\n",
    "air_bnb_subset['price']\n",
    "Jennifer has the highest price."
   ]
  },
  {
   "cell_type": "code",
   "execution_count": 31,
   "metadata": {},
   "outputs": [
    {
     "data": {
      "text/plain": [
       "0                 John\n",
       "1             Jennifer\n",
       "2            Elisabeth\n",
       "3          LisaRoxanne\n",
       "4                Laura\n",
       "             ...      \n",
       "48890          Sabrina\n",
       "48891          Marisol\n",
       "48892    Ilgar & Aysel\n",
       "48893              Taz\n",
       "48894       Christophe\n",
       "Name: host_name, Length: 48895, dtype: object"
      ]
     },
     "execution_count": 31,
     "metadata": {},
     "output_type": "execute_result"
    }
   ],
   "source": [
    "air_bnb_subset['host_name']\n"
   ]
  },
  {
   "cell_type": "code",
   "execution_count": 32,
   "metadata": {},
   "outputs": [
    {
     "data": {
      "text/plain": [
       "Index(['id', 'name', 'host_id', 'host_name', 'neighbourhood_group',\n",
       "       'neighbourhood', 'latitude', 'longitude', 'room_type', 'price',\n",
       "       'minimum_nights', 'number_of_reviews', 'last_review',\n",
       "       'reviews_per_month', 'calculated_host_listings_count',\n",
       "       'availability_365'],\n",
       "      dtype='object')"
      ]
     },
     "execution_count": 32,
     "metadata": {},
     "output_type": "execute_result"
    }
   ],
   "source": [
    "air_bnb_subset.columns"
   ]
  },
  {
   "cell_type": "code",
   "execution_count": 34,
   "metadata": {},
   "outputs": [
    {
     "data": {
      "text/plain": [
       "0          9\n",
       "1         45\n",
       "2          0\n",
       "3        270\n",
       "4          9\n",
       "        ... \n",
       "48890      0\n",
       "48891      0\n",
       "48892      0\n",
       "48893      0\n",
       "48894      0\n",
       "Name: number_of_reviews, Length: 48895, dtype: int64"
      ]
     },
     "execution_count": 34,
     "metadata": {},
     "output_type": "execute_result"
    }
   ],
   "source": [
    "# Who currently has no (zero) availability with a review count of 100 or more?\n",
    "air_bnb_subset['number_of_reviews']\n",
    "elisabeth does."
   ]
  },
  {
   "cell_type": "code",
   "execution_count": 33,
   "metadata": {},
   "outputs": [
    {
     "data": {
      "text/plain": [
       "0                 John\n",
       "1             Jennifer\n",
       "2            Elisabeth\n",
       "3          LisaRoxanne\n",
       "4                Laura\n",
       "             ...      \n",
       "48890          Sabrina\n",
       "48891          Marisol\n",
       "48892    Ilgar & Aysel\n",
       "48893              Taz\n",
       "48894       Christophe\n",
       "Name: host_name, Length: 48895, dtype: object"
      ]
     },
     "execution_count": 33,
     "metadata": {},
     "output_type": "execute_result"
    }
   ],
   "source": [
    "air_bnb_subset['host_name']"
   ]
  },
  {
   "cell_type": "code",
   "execution_count": 36,
   "metadata": {},
   "outputs": [
    {
     "data": {
      "text/plain": [
       "0        365\n",
       "1        355\n",
       "2        365\n",
       "3        194\n",
       "4          0\n",
       "        ... \n",
       "48890      9\n",
       "48891     36\n",
       "48892     27\n",
       "48893      2\n",
       "48894     23\n",
       "Name: availability_365, Length: 48895, dtype: int64"
      ]
     },
     "execution_count": 36,
     "metadata": {},
     "output_type": "execute_result"
    }
   ],
   "source": [
    "air_bnb_subset['availability_365']"
   ]
  },
  {
   "cell_type": "code",
   "execution_count": 37,
   "metadata": {},
   "outputs": [
    {
     "data": {
      "text/plain": [
       "0        149\n",
       "1        225\n",
       "2        150\n",
       "3         89\n",
       "4         80\n",
       "        ... \n",
       "48890     70\n",
       "48891     40\n",
       "48892    115\n",
       "48893     55\n",
       "48894     90\n",
       "Name: price, Length: 48895, dtype: int64"
      ]
     },
     "execution_count": 37,
     "metadata": {},
     "output_type": "execute_result"
    }
   ],
   "source": [
    "# What host has the highest total of prices and where are they located?\n",
    "air_bnb_subset['price']\n",
    "jennifer from midtown."
   ]
  },
  {
   "cell_type": "code",
   "execution_count": 38,
   "metadata": {},
   "outputs": [
    {
     "data": {
      "text/plain": [
       "0                Kensington\n",
       "1                   Midtown\n",
       "2                    Harlem\n",
       "3              Clinton Hill\n",
       "4               East Harlem\n",
       "                ...        \n",
       "48890    Bedford-Stuyvesant\n",
       "48891              Bushwick\n",
       "48892                Harlem\n",
       "48893        Hell's Kitchen\n",
       "48894        Hell's Kitchen\n",
       "Name: neighbourhood, Length: 48895, dtype: object"
      ]
     },
     "execution_count": 38,
     "metadata": {},
     "output_type": "execute_result"
    }
   ],
   "source": [
    "air_bnb_subset['neighbourhood']"
   ]
  },
  {
   "cell_type": "code",
   "execution_count": 39,
   "metadata": {},
   "outputs": [
    {
     "data": {
      "text/plain": [
       "0        2018-10-19\n",
       "1        2019-05-21\n",
       "2               NaN\n",
       "3        2019-07-05\n",
       "4        2018-11-19\n",
       "            ...    \n",
       "48890           NaN\n",
       "48891           NaN\n",
       "48892           NaN\n",
       "48893           NaN\n",
       "48894           NaN\n",
       "Name: last_review, Length: 48895, dtype: object"
      ]
     },
     "execution_count": 39,
     "metadata": {},
     "output_type": "execute_result"
    }
   ],
   "source": [
    "# When did Danielle from Queens last receive a review?\n",
    "\n",
    "air_bnb_subset['last_review']\n",
    "never."
   ]
  },
  {
   "cell_type": "markdown",
   "metadata": {},
   "source": [
    "## Further Questions\n",
    "\n",
    "1. Which host has the most listings?"
   ]
  },
  {
   "cell_type": "code",
   "execution_count": 40,
   "metadata": {},
   "outputs": [
    {
     "data": {
      "text/plain": [
       "0        6\n",
       "1        2\n",
       "2        1\n",
       "3        1\n",
       "4        1\n",
       "        ..\n",
       "48890    2\n",
       "48891    2\n",
       "48892    1\n",
       "48893    6\n",
       "48894    1\n",
       "Name: calculated_host_listings_count, Length: 48895, dtype: int64"
      ]
     },
     "execution_count": 40,
     "metadata": {},
     "output_type": "execute_result"
    }
   ],
   "source": [
    "air_bnb_subset['calculated_host_listings_count']\n",
    "john & taz."
   ]
  },
  {
   "cell_type": "markdown",
   "metadata": {},
   "source": [
    "2. How many listings have completely open availability?"
   ]
  },
  {
   "cell_type": "code",
   "execution_count": 41,
   "metadata": {},
   "outputs": [
    {
     "data": {
      "text/plain": [
       "0        6\n",
       "1        2\n",
       "2        1\n",
       "3        1\n",
       "4        1\n",
       "        ..\n",
       "48890    2\n",
       "48891    2\n",
       "48892    1\n",
       "48893    6\n",
       "48894    1\n",
       "Name: calculated_host_listings_count, Length: 48895, dtype: int64"
      ]
     },
     "execution_count": 41,
     "metadata": {},
     "output_type": "execute_result"
    }
   ],
   "source": [
    "air_bnb_subset['calculated_host_listings_count']\n",
    "only 2."
   ]
  },
  {
   "cell_type": "code",
   "execution_count": 42,
   "metadata": {},
   "outputs": [
    {
     "data": {
      "text/plain": [
       "0        365\n",
       "1        355\n",
       "2        365\n",
       "3        194\n",
       "4          0\n",
       "        ... \n",
       "48890      9\n",
       "48891     36\n",
       "48892     27\n",
       "48893      2\n",
       "48894     23\n",
       "Name: availability_365, Length: 48895, dtype: int64"
      ]
     },
     "execution_count": 42,
     "metadata": {},
     "output_type": "execute_result"
    }
   ],
   "source": [
    "air_bnb_subset['availability_365']\n"
   ]
  },
  {
   "cell_type": "markdown",
   "metadata": {},
   "source": [
    "3. What room_types have the highest review numbers?"
   ]
  },
  {
   "cell_type": "code",
   "execution_count": 43,
   "metadata": {},
   "outputs": [
    {
     "data": {
      "text/plain": [
       "0           Private room\n",
       "1        Entire home/apt\n",
       "2           Private room\n",
       "3        Entire home/apt\n",
       "4        Entire home/apt\n",
       "              ...       \n",
       "48890       Private room\n",
       "48891       Private room\n",
       "48892    Entire home/apt\n",
       "48893        Shared room\n",
       "48894       Private room\n",
       "Name: room_type, Length: 48895, dtype: object"
      ]
     },
     "execution_count": 43,
     "metadata": {},
     "output_type": "execute_result"
    }
   ],
   "source": [
    "air_bnb_subset['room_type']\n",
    "entire home/apt does."
   ]
  },
  {
   "cell_type": "code",
   "execution_count": 44,
   "metadata": {},
   "outputs": [
    {
     "data": {
      "text/plain": [
       "0          9\n",
       "1         45\n",
       "2          0\n",
       "3        270\n",
       "4          9\n",
       "        ... \n",
       "48890      0\n",
       "48891      0\n",
       "48892      0\n",
       "48893      0\n",
       "48894      0\n",
       "Name: number_of_reviews, Length: 48895, dtype: int64"
      ]
     },
     "execution_count": 44,
     "metadata": {},
     "output_type": "execute_result"
    }
   ],
   "source": [
    "air_bnb_subset['number_of_reviews']\n"
   ]
  },
  {
   "cell_type": "markdown",
   "metadata": {},
   "source": [
    "# Final Conclusion\n",
    "\n",
    "In this cell, write your final conclusion for each of the questions asked.\n",
    "\n",
    "Also, if you uncovered some more details that were not asked above, please discribe them here.\n",
    "\n",
    "-- Add your conclusion --"
   ]
  }
 ],
 "metadata": {
  "kernelspec": {
   "display_name": "Python 3",
   "language": "python",
   "name": "python3"
  },
  "language_info": {
   "codemirror_mode": {
    "name": "ipython",
    "version": 3
   },
   "file_extension": ".py",
   "mimetype": "text/x-python",
   "name": "python",
   "nbconvert_exporter": "python",
   "pygments_lexer": "ipython3",
   "version": "3.8.5"
  }
 },
 "nbformat": 4,
 "nbformat_minor": 2
}
